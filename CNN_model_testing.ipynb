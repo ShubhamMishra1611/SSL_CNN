{
  "cells": [
    {
      "cell_type": "code",
      "execution_count": 1,
      "metadata": {
        "colab": {
          "base_uri": "https://localhost:8080/"
        },
        "id": "e0DgDpw7x8FM",
        "outputId": "ad925c8c-96f9-4eb3-88d4-b6c76bbb31d3"
      },
      "outputs": [
        {
          "output_type": "stream",
          "name": "stdout",
          "text": [
            "hi\n"
          ]
        }
      ],
      "source": [
        "print(\"hi\")"
      ]
    },
    {
      "cell_type": "code",
      "execution_count": 2,
      "metadata": {
        "colab": {
          "base_uri": "https://localhost:8080/"
        },
        "id": "RZnPRrkNyBLS",
        "outputId": "ca781e8d-5804-4458-8190-30ec9a4d0d40"
      },
      "outputs": [
        {
          "output_type": "stream",
          "name": "stdout",
          "text": [
            "Cloning into 'CNN_DOA'...\n",
            "remote: Enumerating objects: 55757, done.\u001b[K\n",
            "remote: Counting objects: 100% (23/23), done.\u001b[K\n",
            "remote: Compressing objects: 100% (8/8), done.\u001b[K\n",
            "remote: Total 55757 (delta 17), reused 17 (delta 15), pack-reused 55734\u001b[K\n",
            "Receiving objects: 100% (55757/55757), 370.48 MiB | 11.39 MiB/s, done.\n",
            "Resolving deltas: 100% (1262/1262), done.\n",
            "Updating files: 100% (53925/53925), done.\n"
          ]
        }
      ],
      "source": [
        "!git clone https://github.com/ShubhamMishra1611/CNN_DOA.git"
      ]
    },
    {
      "cell_type": "code",
      "execution_count": 3,
      "metadata": {
        "colab": {
          "base_uri": "https://localhost:8080/"
        },
        "id": "0AwqM032yJw2",
        "outputId": "c44b2b24-631b-453e-b2f7-07153cd2254a"
      },
      "outputs": [
        {
          "output_type": "stream",
          "name": "stdout",
          "text": [
            "Mounted at /content/drive\n"
          ]
        }
      ],
      "source": [
        "from google.colab import drive\n",
        "drive.mount('/content/drive')"
      ]
    },
    {
      "cell_type": "code",
      "source": [
        "from extract_audio import extractAudiodata\n",
        "from utils import sorted_nicely\n",
        "from calcs import featureExtractor2, computeSI\n",
        "from model import get_model"
      ],
      "metadata": {
        "id": "MBg0rInebm6L"
      },
      "execution_count": 19,
      "outputs": []
    },
    {
      "cell_type": "code",
      "execution_count": 4,
      "metadata": {
        "colab": {
          "base_uri": "https://localhost:8080/"
        },
        "id": "RAqcPC7hyMJM",
        "outputId": "5b52e4e5-a534-4832-8e53-a8028354894a"
      },
      "outputs": [
        {
          "output_type": "stream",
          "name": "stderr",
          "text": [
            "<ipython-input-4-90c027e17382>:12: MatplotlibDeprecationWarning: The seaborn styles shipped by Matplotlib are deprecated since 3.6, as they no longer correspond to the styles shipped by seaborn. However, they will remain available as 'seaborn-v0_8-<style>'. Alternatively, directly use the seaborn API instead.\n",
            "  plt.style.use('seaborn')\n"
          ]
        },
        {
          "output_type": "stream",
          "name": "stdout",
          "text": [
            "Colab only includes TensorFlow 2.x; %tensorflow_version has no effect.\n",
            "2.15.0\n"
          ]
        }
      ],
      "source": [
        "import numpy as np\n",
        "import matplotlib.pyplot as plt\n",
        "import librosa, librosa.display\n",
        "import IPython.display as ipd\n",
        "from pathlib import Path\n",
        "from tqdm import tqdm # Progress bar\n",
        "import sklearn\n",
        "import re\n",
        "import os\n",
        "import csv\n",
        "\n",
        "plt.style.use('seaborn')\n",
        "\n",
        "from __future__ import absolute_import, division, print_function, unicode_literals\n",
        "\n",
        "try:\n",
        "  # %tensorflow_version only exists in Colab.\n",
        "  %tensorflow_version 2.x\n",
        "except Exception:\n",
        "  pass\n",
        "import tensorflow as tf\n",
        "\n",
        "from tensorflow import keras\n",
        "\n",
        "print(tf.__version__)"
      ]
    },
    {
      "cell_type": "code",
      "source": [],
      "metadata": {
        "id": "p_m04ZpsbhKM"
      },
      "execution_count": null,
      "outputs": []
    },
    {
      "cell_type": "code",
      "execution_count": 7,
      "metadata": {
        "id": "14EHQBkcy9xM"
      },
      "outputs": [],
      "source": [
        "# This function evaluates the custom accuracity: adjacent classes are considered correct predictions\n",
        "def computeCustomAccuracy(Gamma_container_test, intTestLabels, resolution, model):\n",
        "\n",
        "  # Predict\n",
        "  preds = model.predict(Gamma_container_test)\n",
        "\n",
        "  # Convert the predictions from one-hot to categorical\n",
        "  res = np.zeros([preds.shape[0]])\n",
        "  for i in range(0, preds.shape[0]):\n",
        "    predClass = np.argmax(preds[i])\n",
        "    res[i] = predClass\n",
        "\n",
        "  # Init custom accuracy\n",
        "  customAcc = 0\n",
        "\n",
        "  # Variables used to account for the cyclic nature of the problem\n",
        "  bottomLimitValue = int(360/resolution - 1)\n",
        "  upperLimitBound = int(360/resolution)\n",
        "\n",
        "  for i in range(0, res.shape[0]):\n",
        "    # Create a range we the prediction is considered correct: actual class +- 1\n",
        "    validRange = np.array([intTestLabels[i,0]-1, intTestLabels[i,0], intTestLabels[i,0]+1]).astype(int)\n",
        "\n",
        "    # Implementing modularity\n",
        "    for j in range(validRange.shape[0]):\n",
        "        if validRange[j] == -1: # If we go beyond the lowest class\n",
        "          validRange[j] = bottomLimitValue # Substitute with the highest\n",
        "        if validRange[j] == upperLimitBound: # If we go beyond the highest class\n",
        "          validRange[j] = 0 # Substitute with the lowest\n",
        "\n",
        "    # If the predicted value is in the designated range: correct prediction\n",
        "    if res[i] in validRange:\n",
        "      customAcc += 1\n",
        "\n",
        "  # Compute persentage\n",
        "  customAcc = customAcc / res.shape[0] * 100\n",
        "\n",
        "  return customAcc"
      ]
    },
    {
      "cell_type": "code",
      "execution_count": 20,
      "metadata": {
        "id": "A4hWhmjvzERO"
      },
      "outputs": [],
      "source": [
        "# This function computes the default accuracy and the custom accuracy given the root folder of the test dataset\n",
        "def accuracyGenerator(rootdir, modelRes30, modelRes10, sr, duration):\n",
        "  # Extract all the subdirectories in rootdir\n",
        "  subdirs = sorted_nicely(os.listdir(rootdir))\n",
        "\n",
        "  # Generate the absolute path of the testing directories\n",
        "  testDirectories = []\n",
        "  for subdir in subdirs:\n",
        "    testDirectories.append(rootdir + '/' +  subdir)\n",
        "\n",
        "  # Init lists to contain all the accuracy values for the two models\n",
        "  accuraciesRes30 = [] # Default accuracy model res 30\n",
        "  customAccuraciesRes30 = [] # Custom accuracy model res 30\n",
        "  accuraciesRes10 = [] # Default accuracy model res 10\n",
        "  customAccuraciesRes10 = [] # Custom accuracy model res 10\n",
        "\n",
        "  for dir in testDirectories:\n",
        "    # Extract all the files' paths\n",
        "    audiofiles_test = [str(file) for file in Path(dir).glob('SA*.wav')]\n",
        "    audiofiles_test = sorted_nicely(audiofiles_test)\n",
        "\n",
        "    # Extract audio data and labels\n",
        "    testAudioMatrix, sourceIDs, testlabels30, testlabels10 = extractAudiodata(audiofiles_test, sr*duration)\n",
        "\n",
        "    # Cast labels as integers\n",
        "    intTestLabels30 = np.array(testlabels30, dtype='uint8')\n",
        "    intTestLabels10 = np.array(testlabels10, dtype='uint8')\n",
        "\n",
        "    # Extract the features\n",
        "    datapointsNum = testAudioMatrix.shape[-1]\n",
        "    Gamma_container_test = np.zeros([datapointsNum, 14, 511, 10])\n",
        "\n",
        "    for i in range(0, datapointsNum):\n",
        "      Gamma_container_test[i,:,:,:] = featureExtractor2(testAudioMatrix[:,:,i])\n",
        "\n",
        "    # Evaluate model res 30\n",
        "    # evaluationRes30 = modelRes30.evaluate(Gamma_container_test, intTestLabels30)\n",
        "    # accuraciesRes30.append(evaluationRes30[1] * 100)\n",
        "\n",
        "    # customAccRes30 = computeCustomAccuracy(Gamma_container_test, intTestLabels30, 30, modelRes30)\n",
        "    # customAccuraciesRes30.append(customAccRes30)\n",
        "\n",
        "    # Evaluate model res 10\n",
        "    evaluationRes10 = modelRes10.evaluate(Gamma_container_test, intTestLabels10)\n",
        "    accuraciesRes10.append(evaluationRes10[1] * 100)\n",
        "\n",
        "    customAccRes10 = computeCustomAccuracy(Gamma_container_test, intTestLabels10, 10, modelRes10)\n",
        "    customAccuraciesRes10.append(customAccRes10)\n",
        "\n",
        "  return accuraciesRes30, customAccuraciesRes30, accuraciesRes10, customAccuraciesRes10"
      ]
    },
    {
      "cell_type": "code",
      "execution_count": 14,
      "metadata": {
        "id": "WXMMu4YjzWzt"
      },
      "outputs": [],
      "source": [
        "!cp -r \"/content/drive/MyDrive/model_cnn_dense.zip\" \"/content/\"\n",
        "!cp -r \"/content/drive/MyDrive/model_residual.zip\" \"/content/\""
      ]
    },
    {
      "cell_type": "code",
      "execution_count": 15,
      "metadata": {
        "colab": {
          "base_uri": "https://localhost:8080/"
        },
        "id": "GXCQw96Y0Zzr",
        "outputId": "603fadab-3e35-48ac-e83c-137f8c5250cc"
      },
      "outputs": [
        {
          "output_type": "stream",
          "name": "stdout",
          "text": [
            "Archive:  /content/model_cnn_dense.zip\n",
            "   creating: /content/content/model/\n",
            "  inflating: /content/content/model/keras_metadata.pb  \n",
            "   creating: /content/content/model/assets/\n",
            "  inflating: /content/content/model/saved_model.pb  \n",
            "   creating: /content/content/model/variables/\n",
            "  inflating: /content/content/model/variables/variables.index  \n",
            "  inflating: /content/content/model/variables/variables.data-00000-of-00001  \n",
            " extracting: /content/content/model/fingerprint.pb  \n"
          ]
        }
      ],
      "source": [
        "!unzip '/content/model_cnn_dense.zip' -d '/content/'"
      ]
    },
    {
      "cell_type": "code",
      "execution_count": 16,
      "metadata": {
        "colab": {
          "base_uri": "https://localhost:8080/"
        },
        "id": "QuY6tSik1ZN4",
        "outputId": "8073ddfe-af10-4e2c-ae41-0d06c2e30037"
      },
      "outputs": [
        {
          "output_type": "stream",
          "name": "stdout",
          "text": [
            "Archive:  /content/model_residual.zip\n",
            "   creating: /content/content2/content/model/\n",
            "  inflating: /content/content2/content/model/keras_metadata.pb  \n",
            "   creating: /content/content2/content/model/assets/\n",
            "  inflating: /content/content2/content/model/saved_model.pb  \n",
            "   creating: /content/content2/content/model/variables/\n",
            "  inflating: /content/content2/content/model/variables/variables.index  \n",
            "  inflating: /content/content2/content/model/variables/variables.data-00000-of-00001  \n",
            " extracting: /content/content2/content/model/fingerprint.pb  \n"
          ]
        }
      ],
      "source": [
        "!unzip '/content/model_residual.zip' -d '/content/content2'"
      ]
    },
    {
      "cell_type": "code",
      "execution_count": 17,
      "metadata": {
        "id": "HuGgeewZzNb2"
      },
      "outputs": [],
      "source": [
        "# Models loading\n",
        "sr = 16000\n",
        "duration = 0.5\n",
        "\n",
        "optimizer = keras.optimizers.Adam(learning_rate=1e-5)\n",
        "\n",
        "model_CNN_dense = keras.models.load_model(r'/content/content/model')\n",
        "model_CNN_dense.compile(optimizer=optimizer,\n",
        "              loss='sparse_categorical_crossentropy',\n",
        "              metrics=['accuracy']\n",
        ")\n",
        "\n",
        "model_CNN_residual = keras.models.load_model(r'/content/content2/content/model')\n",
        "model_CNN_residual.compile(optimizer=optimizer,\n",
        "              loss='sparse_categorical_crossentropy',\n",
        "              metrics=['accuracy']\n",
        ")"
      ]
    },
    {
      "cell_type": "code",
      "execution_count": 18,
      "metadata": {
        "colab": {
          "base_uri": "https://localhost:8080/"
        },
        "id": "AyyVwrb35ln1",
        "outputId": "8a4c13fe-b118-4532-ac25-5cb665a5984e"
      },
      "outputs": [
        {
          "output_type": "stream",
          "name": "stdout",
          "text": [
            "Room 1 has dimensions [2.19, 1.60, 0.67][m] --> volume = 2.35 [m^3]\n",
            "Room 2 has dimensions [3.16, 2.31, 0.97][m] --> volume = 7.03 [m^3]\n",
            "Room 3 has dimensions [4.12, 3.01, 1.26][m] --> volume = 15.66 [m^3]\n",
            "Room 4 has dimensions [5.09, 3.72, 1.56][m] --> volume = 29.44 [m^3]\n",
            "Room 5 has dimensions [6.05, 4.42, 1.85][m] --> volume = 49.58 [m^3]\n",
            "Room 6 has dimensions [7.02, 5.13, 2.15][m] --> volume = 77.30 [m^3]\n",
            "Room 7 has dimensions [7.99, 5.83, 2.44][m] --> volume = 113.79 [m^3]\n",
            "Room 8 has dimensions [8.95, 6.54, 2.74][m] --> volume = 160.27 [m^3]\n",
            "Room 9 has dimensions [9.92, 7.24, 3.03][m] --> volume = 217.95 [m^3]\n",
            "Room 10 has dimensions [10.88, 7.95, 3.33][m] --> volume = 288.02 [m^3]\n",
            "Room 11 has dimensions [11.85, 8.65, 3.63][m] --> volume = 371.70 [m^3]\n",
            "Room 12 has dimensions [12.81, 9.36, 3.92][m] --> volume = 470.21 [m^3]\n",
            "Room 13 has dimensions [13.78, 10.06, 4.22][m] --> volume = 584.73 [m^3]\n",
            "Room 14 has dimensions [14.75, 10.77, 4.51][m] --> volume = 716.49 [m^3]\n",
            "Room 15 has dimensions [15.71, 11.47, 4.81][m] --> volume = 866.69 [m^3]\n",
            "Room 16 has dimensions [16.68, 12.18, 5.10][m] --> volume = 1036.53 [m^3]\n",
            "Room 17 has dimensions [17.64, 12.88, 5.40][m] --> volume = 1227.23 [m^3]\n",
            "Room 18 has dimensions [18.61, 13.59, 5.69][m] --> volume = 1440.00 [m^3]\n",
            "Room 19 has dimensions [19.57, 14.29, 5.99][m] --> volume = 1676.03 [m^3]\n",
            "Room 20 has dimensions [20.54, 15.00, 6.29][m] --> volume = 1936.54 [m^3]\n"
          ]
        }
      ],
      "source": [
        "room_dim = [9.64, 7.04, 2.95] # Initial room dimensions\n",
        "xy_ratio = room_dim[0] / room_dim[1] # x/y ratio\n",
        "zy_ratio = room_dim[2] / room_dim[1] # z/y ratio\n",
        "\n",
        "y_i = 1.6 # Initial value for the y-dim\n",
        "y_f = 15 # Final value for the y-dim\n",
        "y_steps = np.linspace(y_i, y_f, 20) # Subdividing testing range in 20 steps\n",
        "\n",
        "# Computing volumes for increasing y\n",
        "volumes = []\n",
        "for i in range(0, y_steps.shape[0]):\n",
        "  y = y_steps[i]\n",
        "  x = xy_ratio * y\n",
        "  z = zy_ratio * y\n",
        "  volumes.append(x*y*z)\n",
        "  print('Room {} has dimensions [{:.2f}, {:.2f}, {:.2f}][m] --> volume = {:.2f} [m^3]'.format(i+1, x, y, z, volumes[i]))"
      ]
    },
    {
      "cell_type": "code",
      "execution_count": 21,
      "metadata": {
        "colab": {
          "base_uri": "https://localhost:8080/"
        },
        "id": "rq_SgKu35ppj",
        "outputId": "37c82105-e90d-4d9a-f084-8e9694852fa8"
      },
      "outputs": [
        {
          "output_type": "stream",
          "name": "stderr",
          "text": [
            "100%|██████████| 100/100 [00:10<00:00,  9.66it/s]\n"
          ]
        },
        {
          "output_type": "stream",
          "name": "stdout",
          "text": [
            "4/4 [==============================] - 3s 100ms/step - loss: 30.4732 - accuracy: 0.0400\n",
            "4/4 [==============================] - 0s 23ms/step\n"
          ]
        },
        {
          "output_type": "stream",
          "name": "stderr",
          "text": [
            "100%|██████████| 100/100 [00:00<00:00, 534.31it/s]\n"
          ]
        },
        {
          "output_type": "stream",
          "name": "stdout",
          "text": [
            "4/4 [==============================] - 0s 23ms/step - loss: 32.8024 - accuracy: 0.0100\n",
            "4/4 [==============================] - 0s 23ms/step\n"
          ]
        },
        {
          "output_type": "stream",
          "name": "stderr",
          "text": [
            "100%|██████████| 100/100 [00:00<00:00, 504.51it/s]\n"
          ]
        },
        {
          "output_type": "stream",
          "name": "stdout",
          "text": [
            "4/4 [==============================] - 0s 23ms/step - loss: 32.6619 - accuracy: 0.0200\n",
            "4/4 [==============================] - 0s 23ms/step\n"
          ]
        },
        {
          "output_type": "stream",
          "name": "stderr",
          "text": [
            "100%|██████████| 100/100 [00:00<00:00, 451.92it/s]\n"
          ]
        },
        {
          "output_type": "stream",
          "name": "stdout",
          "text": [
            "4/4 [==============================] - 0s 26ms/step - loss: 32.9176 - accuracy: 0.0000e+00\n",
            "4/4 [==============================] - 0s 24ms/step\n"
          ]
        },
        {
          "output_type": "stream",
          "name": "stderr",
          "text": [
            "100%|██████████| 100/100 [00:00<00:00, 415.97it/s]\n"
          ]
        },
        {
          "output_type": "stream",
          "name": "stdout",
          "text": [
            "4/4 [==============================] - 0s 25ms/step - loss: 35.0400 - accuracy: 0.0200\n",
            "4/4 [==============================] - 0s 23ms/step\n"
          ]
        },
        {
          "output_type": "stream",
          "name": "stderr",
          "text": [
            "100%|██████████| 100/100 [00:00<00:00, 457.18it/s]\n"
          ]
        },
        {
          "output_type": "stream",
          "name": "stdout",
          "text": [
            "4/4 [==============================] - 0s 23ms/step - loss: 32.4348 - accuracy: 0.0400\n",
            "4/4 [==============================] - 0s 26ms/step\n"
          ]
        },
        {
          "output_type": "stream",
          "name": "stderr",
          "text": [
            "100%|██████████| 100/100 [00:00<00:00, 487.06it/s]\n"
          ]
        },
        {
          "output_type": "stream",
          "name": "stdout",
          "text": [
            "4/4 [==============================] - 0s 22ms/step - loss: 32.8150 - accuracy: 0.0300\n",
            "4/4 [==============================] - 0s 23ms/step\n"
          ]
        },
        {
          "output_type": "stream",
          "name": "stderr",
          "text": [
            "100%|██████████| 100/100 [00:00<00:00, 563.07it/s]\n"
          ]
        },
        {
          "output_type": "stream",
          "name": "stdout",
          "text": [
            "4/4 [==============================] - 0s 23ms/step - loss: 34.0184 - accuracy: 0.0000e+00\n",
            "4/4 [==============================] - 0s 23ms/step\n"
          ]
        },
        {
          "output_type": "stream",
          "name": "stderr",
          "text": [
            "100%|██████████| 100/100 [00:00<00:00, 515.78it/s]\n"
          ]
        },
        {
          "output_type": "stream",
          "name": "stdout",
          "text": [
            "4/4 [==============================] - 0s 24ms/step - loss: 33.4711 - accuracy: 0.0100\n",
            "4/4 [==============================] - 0s 23ms/step\n"
          ]
        },
        {
          "output_type": "stream",
          "name": "stderr",
          "text": [
            "100%|██████████| 100/100 [00:00<00:00, 542.91it/s]\n"
          ]
        },
        {
          "output_type": "stream",
          "name": "stdout",
          "text": [
            "4/4 [==============================] - 0s 22ms/step - loss: 34.4962 - accuracy: 0.0000e+00\n",
            "4/4 [==============================] - 0s 23ms/step\n"
          ]
        },
        {
          "output_type": "stream",
          "name": "stderr",
          "text": [
            "100%|██████████| 100/100 [00:00<00:00, 525.94it/s]\n"
          ]
        },
        {
          "output_type": "stream",
          "name": "stdout",
          "text": [
            "4/4 [==============================] - 0s 22ms/step - loss: 33.4561 - accuracy: 0.0100\n",
            "4/4 [==============================] - 0s 23ms/step\n"
          ]
        },
        {
          "output_type": "stream",
          "name": "stderr",
          "text": [
            "100%|██████████| 100/100 [00:00<00:00, 484.67it/s]\n"
          ]
        },
        {
          "output_type": "stream",
          "name": "stdout",
          "text": [
            "4/4 [==============================] - 0s 23ms/step - loss: 34.0827 - accuracy: 0.0200\n",
            "4/4 [==============================] - 0s 23ms/step\n"
          ]
        },
        {
          "output_type": "stream",
          "name": "stderr",
          "text": [
            "100%|██████████| 100/100 [00:00<00:00, 516.47it/s]\n"
          ]
        },
        {
          "output_type": "stream",
          "name": "stdout",
          "text": [
            "4/4 [==============================] - 0s 24ms/step - loss: 32.6994 - accuracy: 0.0300\n",
            "4/4 [==============================] - 0s 24ms/step\n"
          ]
        },
        {
          "output_type": "stream",
          "name": "stderr",
          "text": [
            "100%|██████████| 100/100 [00:00<00:00, 486.45it/s]\n"
          ]
        },
        {
          "output_type": "stream",
          "name": "stdout",
          "text": [
            "4/4 [==============================] - 0s 26ms/step - loss: 34.5673 - accuracy: 0.0400\n",
            "4/4 [==============================] - 0s 24ms/step\n"
          ]
        },
        {
          "output_type": "stream",
          "name": "stderr",
          "text": [
            "100%|██████████| 100/100 [00:00<00:00, 432.88it/s]\n"
          ]
        },
        {
          "output_type": "stream",
          "name": "stdout",
          "text": [
            "4/4 [==============================] - 0s 25ms/step - loss: 33.1973 - accuracy: 0.0200\n",
            "4/4 [==============================] - 0s 24ms/step\n"
          ]
        },
        {
          "output_type": "stream",
          "name": "stderr",
          "text": [
            "100%|██████████| 100/100 [00:00<00:00, 382.63it/s]\n"
          ]
        },
        {
          "output_type": "stream",
          "name": "stdout",
          "text": [
            "4/4 [==============================] - 0s 22ms/step - loss: 31.8197 - accuracy: 0.0200\n",
            "4/4 [==============================] - 0s 24ms/step\n"
          ]
        },
        {
          "output_type": "stream",
          "name": "stderr",
          "text": [
            "100%|██████████| 100/100 [00:00<00:00, 503.68it/s]\n"
          ]
        },
        {
          "output_type": "stream",
          "name": "stdout",
          "text": [
            "4/4 [==============================] - 0s 22ms/step - loss: 33.4568 - accuracy: 0.0300\n",
            "4/4 [==============================] - 0s 23ms/step\n"
          ]
        },
        {
          "output_type": "stream",
          "name": "stderr",
          "text": [
            "100%|██████████| 100/100 [00:00<00:00, 454.84it/s]\n"
          ]
        },
        {
          "output_type": "stream",
          "name": "stdout",
          "text": [
            "4/4 [==============================] - 0s 22ms/step - loss: 31.5452 - accuracy: 0.0500\n",
            "4/4 [==============================] - 0s 23ms/step\n"
          ]
        },
        {
          "output_type": "stream",
          "name": "stderr",
          "text": [
            "100%|██████████| 100/100 [00:00<00:00, 468.97it/s]\n"
          ]
        },
        {
          "output_type": "stream",
          "name": "stdout",
          "text": [
            "4/4 [==============================] - 0s 22ms/step - loss: 32.8411 - accuracy: 0.0400\n",
            "4/4 [==============================] - 0s 23ms/step\n"
          ]
        },
        {
          "output_type": "stream",
          "name": "stderr",
          "text": [
            "100%|██████████| 100/100 [00:00<00:00, 473.47it/s]\n"
          ]
        },
        {
          "output_type": "stream",
          "name": "stdout",
          "text": [
            "4/4 [==============================] - 0s 26ms/step - loss: 34.7213 - accuracy: 0.0100\n",
            "4/4 [==============================] - 0s 25ms/step\n"
          ]
        }
      ],
      "source": [
        "rootdir_RV = '/content/CNN_DOA/DATASETS/ROOM_VOLUME'\n",
        "\n",
        "# Compute accuracies\n",
        "_, _, accRes10_RV, custAccRes10_RV = accuracyGenerator(rootdir_RV,None,model_CNN_residual,sr,duration)"
      ]
    },
    {
      "cell_type": "code",
      "execution_count": 24,
      "metadata": {
        "colab": {
          "base_uri": "https://localhost:8080/",
          "height": 502
        },
        "id": "dxcrhXlp5zM2",
        "outputId": "b09e48f7-181e-4e09-e9f0-5be90f4685f8"
      },
      "outputs": [
        {
          "output_type": "execute_result",
          "data": {
            "text/plain": [
              "<matplotlib.legend.Legend at 0x7eb7980bc280>"
            ]
          },
          "metadata": {},
          "execution_count": 24
        },
        {
          "output_type": "display_data",
          "data": {
            "text/plain": [
              "<Figure size 1600x500 with 1 Axes>"
            ],
            "image/png": "[encoded data removed]"
          },
          "metadata": {}
        }
      ],
      "source": [
        "# Plotting the results\n",
        "plt.figure(figsize=(16,5))\n",
        "\n",
        "# Model CNN residual\n",
        "plt.subplot(1,2,1)\n",
        "plt.plot(y_steps, accRes10_RV)\n",
        "plt.plot(y_steps, custAccRes10_RV)\n",
        "plt.title('Model CNN residual° accuracy: room volume')\n",
        "plt.ylabel('accuracy')\n",
        "plt.xlabel('y length [m]')\n",
        "plt.ylim([0,100])\n",
        "plt.legend(['Accuracy', 'Custom Accuracy'], loc='upper left')\n",
        "\n",
        "# # Model CNN dense\n",
        "# plt.subplot(1,2,2)\n",
        "# plt.plot(y_steps, accRes30_RV)\n",
        "# plt.plot(y_steps, custAccRes30_RV)\n",
        "# plt.title('Model CNN Dense accuracy: room volume')\n",
        "# plt.ylabel('accuracy')\n",
        "# plt.xlabel('y length [m]')\n",
        "# plt.ylim([0,100])\n",
        "# plt.legend(['Accuracy', 'Custom Accuracy'], loc='upper left')"
      ]
    },
    {
      "cell_type": "code",
      "source": [
        "plt.savefig('Test_plot_rv_residual.png')\n",
        "plt.show()"
      ],
      "metadata": {
        "colab": {
          "base_uri": "https://localhost:8080/",
          "height": 34
        },
        "id": "Ji5eWCQrczTo",
        "outputId": "75d75e23-2f7b-4ee7-b94b-92f9e5132d84"
      },
      "execution_count": 25,
      "outputs": [
        {
          "output_type": "display_data",
          "data": {
            "text/plain": [
              "<Figure size 800x550 with 0 Axes>"
            ]
          },
          "metadata": {}
        }
      ]
    },
    {
      "cell_type": "code",
      "execution_count": 26,
      "metadata": {
        "id": "WoZe8YP653Xz"
      },
      "outputs": [],
      "source": [
        "# # Creating csv file for results\n",
        "# header = ['test_range', 'accuracy'] # Columns' names\n",
        "\n",
        "# # Exporting data for model res 30°\n",
        "# with open('vol_res30.csv', 'w') as f:\n",
        "#     writer = csv.writer(f)\n",
        "\n",
        "#     # write the header\n",
        "#     writer.writerow(header)\n",
        "\n",
        "#     for i in range(0, len(custAccRes30_RV)):\n",
        "#       row = [y_steps[i], custAccRes30_RV[i]]\n",
        "#       # write the data\n",
        "#       writer.writerow(row)\n",
        "\n",
        "# # Exporting data for model res 10°\n",
        "# with open('vol_res10.csv', 'w') as f:\n",
        "#     writer = csv.writer(f)\n",
        "\n",
        "#     # write the header\n",
        "#     writer.writerow(header)\n",
        "\n",
        "#     for i in range(0, len(custAccRes10_RV)):\n",
        "#       row = [y_steps[i], custAccRes10_RV[i]]\n",
        "#       # write the data\n",
        "#       writer.writerow(row)"
      ]
    },
    {
      "cell_type": "code",
      "execution_count": null,
      "metadata": {
        "colab": {
          "base_uri": "https://localhost:8080/"
        },
        "id": "x0OLiID_562U",
        "outputId": "422f4616-60f9-4d81-f64a-9a73265a2ae4"
      },
      "outputs": [
        {
          "data": {
            "image/png": "[encoded data removed]",
            "text/plain": [
              "<Figure size 800x550 with 1 Axes>"
            ]
          },
          "metadata": {},
          "output_type": "display_data"
        }
      ],
      "source": [
        "# TESTING polynomial fitting (skip/remove)\n",
        "from scipy.signal import savgol_filter\n",
        "custAccRes10_RV = np.asarray(custAccRes10_RV)\n",
        "x = np.arange(0,20)\n",
        "y = custAccRes10_RV\n",
        "\n",
        "y_sav = savgol_filter(y, 5, 2)\n",
        "\n",
        "mymodel = np.poly1d(np.polyfit(x, y, 11))\n",
        "myline = np.linspace(0, 19, 100)\n",
        "plt.scatter(x, y)\n",
        "plt.plot(myline, mymodel(myline))\n",
        "plt.plot(y_sav)\n",
        "plt.ylim([0,100])\n",
        "plt.show()"
      ]
    },
    {
      "cell_type": "code",
      "execution_count": 27,
      "metadata": {
        "colab": {
          "base_uri": "https://localhost:8080/"
        },
        "id": "vWwnOODZ59UD",
        "outputId": "4302c511-2950-4865-8dc8-4ac391fcb701"
      },
      "outputs": [
        {
          "output_type": "stream",
          "name": "stdout",
          "text": [
            "[0.14       0.49789474 0.85578947 1.21368421 1.57157895 1.92947368\n",
            " 2.28736842 2.64526316 3.00315789 3.36105263 3.71894737 4.07684211\n",
            " 4.43473684 4.79263158 5.15052632 5.50842105 5.86631579 6.22421053\n",
            " 6.58210526 6.94      ]\n"
          ]
        }
      ],
      "source": [
        "source_distances = np.linspace(0.14, 6.94, num = 20)\n",
        "print(source_distances)"
      ]
    },
    {
      "cell_type": "code",
      "source": [
        "plt.plot(source_distances)"
      ],
      "metadata": {
        "colab": {
          "base_uri": "https://localhost:8080/",
          "height": 501
        },
        "id": "TzkAnH6ad5rA",
        "outputId": "d7bb205b-125d-4446-b5f7-8e838f16915d"
      },
      "execution_count": 29,
      "outputs": [
        {
          "output_type": "execute_result",
          "data": {
            "text/plain": [
              "[<matplotlib.lines.Line2D at 0x7eb796fa4880>]"
            ]
          },
          "metadata": {},
          "execution_count": 29
        },
        {
          "output_type": "display_data",
          "data": {
            "text/plain": [
              "<Figure size 800x550 with 1 Axes>"
            ],
            "image/png": "[encoded data removed]"
          },
          "metadata": {}
        }
      ]
    },
    {
      "cell_type": "code",
      "execution_count": 31,
      "metadata": {
        "colab": {
          "base_uri": "https://localhost:8080/"
        },
        "id": "soyV2utN6FRe",
        "outputId": "7f3b4e7f-b73f-4e74-f8ac-b6717e928b95"
      },
      "outputs": [
        {
          "output_type": "stream",
          "name": "stderr",
          "text": [
            "100%|██████████| 100/100 [00:00<00:00, 734.69it/s]\n"
          ]
        },
        {
          "output_type": "stream",
          "name": "stdout",
          "text": [
            "4/4 [==============================] - 0s 23ms/step - loss: 35.6991 - accuracy: 0.0200\n",
            "4/4 [==============================] - 0s 23ms/step\n"
          ]
        },
        {
          "output_type": "stream",
          "name": "stderr",
          "text": [
            "100%|██████████| 100/100 [00:00<00:00, 474.03it/s]\n"
          ]
        },
        {
          "output_type": "stream",
          "name": "stdout",
          "text": [
            "4/4 [==============================] - 0s 22ms/step - loss: 34.5107 - accuracy: 0.0600\n",
            "4/4 [==============================] - 0s 21ms/step\n"
          ]
        },
        {
          "output_type": "stream",
          "name": "stderr",
          "text": [
            "100%|██████████| 100/100 [00:00<00:00, 783.33it/s]\n"
          ]
        },
        {
          "output_type": "stream",
          "name": "stdout",
          "text": [
            "4/4 [==============================] - 0s 23ms/step - loss: 34.2741 - accuracy: 0.0400\n",
            "4/4 [==============================] - 0s 24ms/step\n"
          ]
        },
        {
          "output_type": "stream",
          "name": "stderr",
          "text": [
            "100%|██████████| 100/100 [00:00<00:00, 562.34it/s]\n"
          ]
        },
        {
          "output_type": "stream",
          "name": "stdout",
          "text": [
            "4/4 [==============================] - 0s 25ms/step - loss: 35.3307 - accuracy: 0.0500\n",
            "4/4 [==============================] - 0s 25ms/step\n"
          ]
        },
        {
          "output_type": "stream",
          "name": "stderr",
          "text": [
            "100%|██████████| 100/100 [00:00<00:00, 521.18it/s]\n"
          ]
        },
        {
          "output_type": "stream",
          "name": "stdout",
          "text": [
            "4/4 [==============================] - 0s 31ms/step - loss: 36.6211 - accuracy: 0.0200\n",
            "4/4 [==============================] - 0s 25ms/step\n"
          ]
        },
        {
          "output_type": "stream",
          "name": "stderr",
          "text": [
            "100%|██████████| 100/100 [00:00<00:00, 483.35it/s]\n"
          ]
        },
        {
          "output_type": "stream",
          "name": "stdout",
          "text": [
            "4/4 [==============================] - 0s 23ms/step - loss: 35.2766 - accuracy: 0.0200\n",
            "4/4 [==============================] - 0s 24ms/step\n"
          ]
        },
        {
          "output_type": "stream",
          "name": "stderr",
          "text": [
            "100%|██████████| 100/100 [00:00<00:00, 851.78it/s]\n"
          ]
        },
        {
          "output_type": "stream",
          "name": "stdout",
          "text": [
            "4/4 [==============================] - 0s 27ms/step - loss: 35.3652 - accuracy: 0.0400\n",
            "4/4 [==============================] - 0s 28ms/step\n"
          ]
        },
        {
          "output_type": "stream",
          "name": "stderr",
          "text": [
            "100%|██████████| 100/100 [00:00<00:00, 585.01it/s]\n"
          ]
        },
        {
          "output_type": "stream",
          "name": "stdout",
          "text": [
            "4/4 [==============================] - 0s 22ms/step - loss: 34.4354 - accuracy: 0.0300\n",
            "4/4 [==============================] - 0s 24ms/step\n"
          ]
        },
        {
          "output_type": "stream",
          "name": "stderr",
          "text": [
            "100%|██████████| 100/100 [00:00<00:00, 793.46it/s]\n"
          ]
        },
        {
          "output_type": "stream",
          "name": "stdout",
          "text": [
            "4/4 [==============================] - 0s 23ms/step - loss: 34.3045 - accuracy: 0.0500\n",
            "4/4 [==============================] - 0s 24ms/step\n"
          ]
        },
        {
          "output_type": "stream",
          "name": "stderr",
          "text": [
            "100%|██████████| 100/100 [00:00<00:00, 679.48it/s]\n"
          ]
        },
        {
          "output_type": "stream",
          "name": "stdout",
          "text": [
            "4/4 [==============================] - 0s 23ms/step - loss: 34.6600 - accuracy: 0.0700\n",
            "4/4 [==============================] - 0s 24ms/step\n"
          ]
        },
        {
          "output_type": "stream",
          "name": "stderr",
          "text": [
            "100%|██████████| 100/100 [00:00<00:00, 752.41it/s]\n"
          ]
        },
        {
          "output_type": "stream",
          "name": "stdout",
          "text": [
            "4/4 [==============================] - 0s 24ms/step - loss: 35.7763 - accuracy: 0.0300\n",
            "4/4 [==============================] - 0s 23ms/step\n"
          ]
        },
        {
          "output_type": "stream",
          "name": "stderr",
          "text": [
            "100%|██████████| 100/100 [00:00<00:00, 767.84it/s]\n"
          ]
        },
        {
          "output_type": "stream",
          "name": "stdout",
          "text": [
            "4/4 [==============================] - 0s 24ms/step - loss: 35.4464 - accuracy: 0.0200\n",
            "4/4 [==============================] - 0s 23ms/step\n"
          ]
        },
        {
          "output_type": "stream",
          "name": "stderr",
          "text": [
            "100%|██████████| 100/100 [00:00<00:00, 804.93it/s]\n"
          ]
        },
        {
          "output_type": "stream",
          "name": "stdout",
          "text": [
            "4/4 [==============================] - 0s 23ms/step - loss: 36.7406 - accuracy: 0.0200\n",
            "4/4 [==============================] - 0s 23ms/step\n"
          ]
        },
        {
          "output_type": "stream",
          "name": "stderr",
          "text": [
            "100%|██████████| 100/100 [00:00<00:00, 423.48it/s]\n"
          ]
        },
        {
          "output_type": "stream",
          "name": "stdout",
          "text": [
            "4/4 [==============================] - 0s 24ms/step - loss: 34.8137 - accuracy: 0.0400\n",
            "4/4 [==============================] - 0s 23ms/step\n"
          ]
        },
        {
          "output_type": "stream",
          "name": "stderr",
          "text": [
            "100%|██████████| 100/100 [00:00<00:00, 489.48it/s]\n"
          ]
        },
        {
          "output_type": "stream",
          "name": "stdout",
          "text": [
            "4/4 [==============================] - 0s 25ms/step - loss: 34.1146 - accuracy: 0.0500\n",
            "4/4 [==============================] - 0s 26ms/step\n"
          ]
        },
        {
          "output_type": "stream",
          "name": "stderr",
          "text": [
            "100%|██████████| 100/100 [00:00<00:00, 411.39it/s]\n"
          ]
        },
        {
          "output_type": "stream",
          "name": "stdout",
          "text": [
            "4/4 [==============================] - 0s 23ms/step - loss: 36.5816 - accuracy: 0.0100\n",
            "4/4 [==============================] - 0s 23ms/step\n"
          ]
        },
        {
          "output_type": "stream",
          "name": "stderr",
          "text": [
            "100%|██████████| 100/100 [00:00<00:00, 569.20it/s]\n"
          ]
        },
        {
          "output_type": "stream",
          "name": "stdout",
          "text": [
            "4/4 [==============================] - 0s 22ms/step - loss: 35.1983 - accuracy: 0.0300\n",
            "4/4 [==============================] - 0s 23ms/step\n"
          ]
        },
        {
          "output_type": "stream",
          "name": "stderr",
          "text": [
            "100%|██████████| 100/100 [00:00<00:00, 550.12it/s]\n"
          ]
        },
        {
          "output_type": "stream",
          "name": "stdout",
          "text": [
            "4/4 [==============================] - 0s 24ms/step - loss: 33.9300 - accuracy: 0.0600\n",
            "4/4 [==============================] - 0s 24ms/step\n"
          ]
        },
        {
          "output_type": "stream",
          "name": "stderr",
          "text": [
            "100%|██████████| 100/100 [00:00<00:00, 568.86it/s]\n"
          ]
        },
        {
          "output_type": "stream",
          "name": "stdout",
          "text": [
            "4/4 [==============================] - 0s 23ms/step - loss: 34.5879 - accuracy: 0.0300\n",
            "4/4 [==============================] - 0s 23ms/step\n"
          ]
        },
        {
          "output_type": "stream",
          "name": "stderr",
          "text": [
            "100%|██████████| 100/100 [00:00<00:00, 531.63it/s]\n"
          ]
        },
        {
          "output_type": "stream",
          "name": "stdout",
          "text": [
            "4/4 [==============================] - 0s 23ms/step - loss: 36.2912 - accuracy: 0.0000e+00\n",
            "4/4 [==============================] - 0s 23ms/step\n"
          ]
        }
      ],
      "source": [
        "rootdir_SD = '/content/CNN_DOA/DATASETS/SOURCE_DISTANCE'\n",
        "\n",
        "# Compute accuracies\n",
        "_, _, accRes10_SD, custAccRes10_SD = accuracyGenerator(rootdir_SD, None, model_CNN_residual, sr, duration)"
      ]
    },
    {
      "cell_type": "code",
      "execution_count": 32,
      "metadata": {
        "colab": {
          "base_uri": "https://localhost:8080/",
          "height": 502
        },
        "id": "MqazQ5Ju6PVQ",
        "outputId": "49ab7571-311e-4926-b679-9e0fdb9909d5"
      },
      "outputs": [
        {
          "output_type": "execute_result",
          "data": {
            "text/plain": [
              "<matplotlib.legend.Legend at 0x7eb797343ac0>"
            ]
          },
          "metadata": {},
          "execution_count": 32
        },
        {
          "output_type": "display_data",
          "data": {
            "text/plain": [
              "<Figure size 1600x500 with 1 Axes>"
            ],
            "image/png": "[encoded data removed]"
          },
          "metadata": {}
        }
      ],
      "source": [
        "# Plotting results\n",
        "plt.figure(figsize=(16,5))\n",
        "\n",
        "# Model res 10\n",
        "plt.subplot(1,2,1)\n",
        "plt.plot(source_distances, accRes10_SD)\n",
        "plt.plot(source_distances, custAccRes10_SD)\n",
        "plt.title('Model CNN Residual° accuracy: source distance')\n",
        "plt.ylabel('accuracy')\n",
        "plt.xlabel('distance from center [m]')\n",
        "plt.ylim([0,100])\n",
        "plt.legend(['Accuracy', 'Custom Accuracy'], loc='upper left')\n",
        "\n",
        "# Model res 30\n",
        "# plt.subplot(1,2,2)\n",
        "# plt.plot(source_distances, accRes30_SD)\n",
        "# plt.plot(source_distances, custAccRes30_SD)\n",
        "# plt.title('Model CNN dense accuracy: source distance')\n",
        "# plt.ylabel('accuracy')\n",
        "# plt.xlabel('distance from center [m]')\n",
        "# plt.ylim([0,100])\n",
        "# plt.legend(['Accuracy', 'Custom Accuracy'], loc='upper left')"
      ]
    },
    {
      "cell_type": "code",
      "execution_count": null,
      "metadata": {
        "colab": {
          "background_save": true
        },
        "id": "EfyOG0G36eg1"
      },
      "outputs": [],
      "source": [
        "# # Creating csv file for results\n",
        "# header = ['test_range', 'accuracy'] # Columns' names\n",
        "\n",
        "# # Exporting data for model res 30°\n",
        "# with open('source_res30.csv', 'w') as f:\n",
        "#     writer = csv.writer(f)\n",
        "\n",
        "#     # write the header\n",
        "#     writer.writerow(header)\n",
        "\n",
        "#     for i in range(0, len(custAccRes30_SD)):\n",
        "#       row = [source_distances[i], custAccRes30_SD[i]]\n",
        "#       # write the data\n",
        "#       writer.writerow(row)\n",
        "\n",
        "# # Exporting data for model res 10°\n",
        "# with open('source_res10.csv', 'w') as f:\n",
        "#     writer = csv.writer(f)\n",
        "\n",
        "#     # write the header\n",
        "#     writer.writerow(header)\n",
        "\n",
        "#     for i in range(0, len(custAccRes10_SD)):\n",
        "#       row = [source_distances[i], custAccRes10_SD[i]]\n",
        "#       # write the data\n",
        "#       writer.writerow(row)"
      ]
    },
    {
      "cell_type": "code",
      "execution_count": 33,
      "metadata": {
        "colab": {
          "base_uri": "https://localhost:8080/"
        },
        "id": "PuM-Z-5u66Ty",
        "outputId": "d76a8dd8-55cf-42a9-8040-db3e568ca865"
      },
      "outputs": [
        {
          "output_type": "stream",
          "name": "stdout",
          "text": [
            "[0.0, 0.2898906088457385, 0.579781217691477, 0.8696718265372154, 1.159562435382954, 1.4494530442286924, 1.7393436530744308, 2.029234261920168, 2.319124870765908, 2.6090154796116445, 2.8989060884573847, 3.1887966973031214, 3.47868730614886, 3.7685779149945984, 4.058468523840337, 4.348359132686075, 4.638249741531814, 4.928140350377553, 5.218030959223291, 5.507921568069029]\n"
          ]
        }
      ],
      "source": [
        "p_i = [4.82, 3.52, 1.5] # Inital position\n",
        "p_f = [8, 5.4, 0.14] # Final position\n",
        "steps = 20 # Number of subdivisions\n",
        "# Spanning over the three dimensions\n",
        "positions = np.asarray([np.linspace(p_i[0], p_f[0], steps), np.linspace(p_i[1], p_f[1], steps), np.linspace(p_i[2], p_f[2], steps)]).T\n",
        "\n",
        "# Computing the distances from p_i, first position\n",
        "distances = []\n",
        "for pos in positions:\n",
        "  # Euclidean distance\n",
        "  dist = np.sqrt(np.power(p_i[0] - pos[0], 2) + np.power(p_i[0] - pos[0], 2) + np.power(p_i[0] - pos[0], 2))\n",
        "  distances.append(dist)\n",
        "\n",
        "print(distances)"
      ]
    },
    {
      "cell_type": "code",
      "execution_count": 34,
      "metadata": {
        "id": "xL6mHs_y68n6",
        "colab": {
          "base_uri": "https://localhost:8080/"
        },
        "outputId": "2e8d7ca2-ff6b-40fa-b51e-d2adac5ccbf2"
      },
      "outputs": [
        {
          "output_type": "stream",
          "name": "stderr",
          "text": [
            "100%|██████████| 100/100 [00:00<00:00, 343.91it/s]\n"
          ]
        },
        {
          "output_type": "stream",
          "name": "stdout",
          "text": [
            "4/4 [==============================] - 0s 27ms/step - loss: 32.5311 - accuracy: 0.0100\n",
            "4/4 [==============================] - 0s 23ms/step\n"
          ]
        },
        {
          "output_type": "stream",
          "name": "stderr",
          "text": [
            "100%|██████████| 100/100 [00:00<00:00, 526.66it/s]\n"
          ]
        },
        {
          "output_type": "stream",
          "name": "stdout",
          "text": [
            "4/4 [==============================] - 0s 22ms/step - loss: 33.6071 - accuracy: 0.0200\n",
            "4/4 [==============================] - 0s 23ms/step\n"
          ]
        },
        {
          "output_type": "stream",
          "name": "stderr",
          "text": [
            "100%|██████████| 100/100 [00:00<00:00, 523.84it/s]\n"
          ]
        },
        {
          "output_type": "stream",
          "name": "stdout",
          "text": [
            "4/4 [==============================] - 0s 26ms/step - loss: 32.6357 - accuracy: 0.0300\n",
            "4/4 [==============================] - 0s 24ms/step\n"
          ]
        },
        {
          "output_type": "stream",
          "name": "stderr",
          "text": [
            "100%|██████████| 100/100 [00:00<00:00, 415.07it/s]\n"
          ]
        },
        {
          "output_type": "stream",
          "name": "stdout",
          "text": [
            "4/4 [==============================] - 0s 31ms/step - loss: 32.0731 - accuracy: 0.0300\n",
            "4/4 [==============================] - 0s 25ms/step\n"
          ]
        },
        {
          "output_type": "stream",
          "name": "stderr",
          "text": [
            "100%|██████████| 100/100 [00:00<00:00, 362.91it/s]\n"
          ]
        },
        {
          "output_type": "stream",
          "name": "stdout",
          "text": [
            "4/4 [==============================] - 0s 23ms/step - loss: 32.4430 - accuracy: 0.0300\n",
            "4/4 [==============================] - 0s 23ms/step\n"
          ]
        },
        {
          "output_type": "stream",
          "name": "stderr",
          "text": [
            "100%|██████████| 100/100 [00:00<00:00, 508.22it/s]\n"
          ]
        },
        {
          "output_type": "stream",
          "name": "stdout",
          "text": [
            "4/4 [==============================] - 0s 23ms/step - loss: 32.8111 - accuracy: 0.0100\n",
            "4/4 [==============================] - 0s 23ms/step\n"
          ]
        },
        {
          "output_type": "stream",
          "name": "stderr",
          "text": [
            "100%|██████████| 100/100 [00:00<00:00, 546.89it/s]\n"
          ]
        },
        {
          "output_type": "stream",
          "name": "stdout",
          "text": [
            "4/4 [==============================] - 0s 23ms/step - loss: 34.0014 - accuracy: 0.0100\n",
            "4/4 [==============================] - 0s 23ms/step\n"
          ]
        },
        {
          "output_type": "stream",
          "name": "stderr",
          "text": [
            "100%|██████████| 100/100 [00:00<00:00, 498.56it/s]\n"
          ]
        },
        {
          "output_type": "stream",
          "name": "stdout",
          "text": [
            "4/4 [==============================] - 0s 23ms/step - loss: 32.8895 - accuracy: 0.0200\n",
            "4/4 [==============================] - 0s 23ms/step\n"
          ]
        },
        {
          "output_type": "stream",
          "name": "stderr",
          "text": [
            "100%|██████████| 100/100 [00:00<00:00, 519.20it/s]\n"
          ]
        },
        {
          "output_type": "stream",
          "name": "stdout",
          "text": [
            "4/4 [==============================] - 0s 23ms/step - loss: 34.2647 - accuracy: 0.0200\n",
            "4/4 [==============================] - 0s 23ms/step\n"
          ]
        },
        {
          "output_type": "stream",
          "name": "stderr",
          "text": [
            "100%|██████████| 100/100 [00:00<00:00, 509.53it/s]\n"
          ]
        },
        {
          "output_type": "stream",
          "name": "stdout",
          "text": [
            "4/4 [==============================] - 0s 25ms/step - loss: 32.3546 - accuracy: 0.0100\n",
            "4/4 [==============================] - 0s 24ms/step\n"
          ]
        },
        {
          "output_type": "stream",
          "name": "stderr",
          "text": [
            "100%|██████████| 100/100 [00:00<00:00, 559.53it/s]\n"
          ]
        },
        {
          "output_type": "stream",
          "name": "stdout",
          "text": [
            "4/4 [==============================] - 0s 23ms/step - loss: 33.8796 - accuracy: 0.0200\n",
            "4/4 [==============================] - 0s 23ms/step\n"
          ]
        },
        {
          "output_type": "stream",
          "name": "stderr",
          "text": [
            "100%|██████████| 100/100 [00:00<00:00, 527.31it/s]\n"
          ]
        },
        {
          "output_type": "stream",
          "name": "stdout",
          "text": [
            "4/4 [==============================] - 0s 25ms/step - loss: 33.9957 - accuracy: 0.0300\n",
            "4/4 [==============================] - 0s 24ms/step\n"
          ]
        },
        {
          "output_type": "stream",
          "name": "stderr",
          "text": [
            "100%|██████████| 100/100 [00:00<00:00, 405.97it/s]\n"
          ]
        },
        {
          "output_type": "stream",
          "name": "stdout",
          "text": [
            "4/4 [==============================] - 0s 25ms/step - loss: 32.0105 - accuracy: 0.0300\n",
            "4/4 [==============================] - 0s 24ms/step\n"
          ]
        },
        {
          "output_type": "stream",
          "name": "stderr",
          "text": [
            "100%|██████████| 100/100 [00:00<00:00, 437.42it/s]\n"
          ]
        },
        {
          "output_type": "stream",
          "name": "stdout",
          "text": [
            "4/4 [==============================] - 0s 30ms/step - loss: 34.1357 - accuracy: 0.0300\n",
            "4/4 [==============================] - 0s 26ms/step\n"
          ]
        },
        {
          "output_type": "stream",
          "name": "stderr",
          "text": [
            "100%|██████████| 100/100 [00:00<00:00, 343.43it/s]\n"
          ]
        },
        {
          "output_type": "stream",
          "name": "stdout",
          "text": [
            "4/4 [==============================] - 0s 26ms/step - loss: 33.2118 - accuracy: 0.0300\n",
            "4/4 [==============================] - 0s 23ms/step\n"
          ]
        },
        {
          "output_type": "stream",
          "name": "stderr",
          "text": [
            "100%|██████████| 100/100 [00:00<00:00, 510.81it/s]\n"
          ]
        },
        {
          "output_type": "stream",
          "name": "stdout",
          "text": [
            "4/4 [==============================] - 0s 23ms/step - loss: 32.1281 - accuracy: 0.0100\n",
            "4/4 [==============================] - 0s 23ms/step\n"
          ]
        },
        {
          "output_type": "stream",
          "name": "stderr",
          "text": [
            "100%|██████████| 100/100 [00:00<00:00, 529.67it/s]\n"
          ]
        },
        {
          "output_type": "stream",
          "name": "stdout",
          "text": [
            "4/4 [==============================] - 0s 23ms/step - loss: 31.9770 - accuracy: 0.0300\n",
            "4/4 [==============================] - 0s 23ms/step\n"
          ]
        },
        {
          "output_type": "stream",
          "name": "stderr",
          "text": [
            "100%|██████████| 100/100 [00:00<00:00, 510.95it/s]\n"
          ]
        },
        {
          "output_type": "stream",
          "name": "stdout",
          "text": [
            "4/4 [==============================] - 0s 24ms/step - loss: 33.9832 - accuracy: 0.0100\n",
            "4/4 [==============================] - 0s 23ms/step\n"
          ]
        },
        {
          "output_type": "stream",
          "name": "stderr",
          "text": [
            "100%|██████████| 100/100 [00:00<00:00, 511.36it/s]\n"
          ]
        },
        {
          "output_type": "stream",
          "name": "stdout",
          "text": [
            "4/4 [==============================] - 0s 23ms/step - loss: 33.3788 - accuracy: 0.0200\n",
            "4/4 [==============================] - 0s 23ms/step\n"
          ]
        },
        {
          "output_type": "stream",
          "name": "stderr",
          "text": [
            "100%|██████████| 100/100 [00:00<00:00, 519.75it/s]\n"
          ]
        },
        {
          "output_type": "stream",
          "name": "stdout",
          "text": [
            "4/4 [==============================] - 0s 24ms/step - loss: 32.3480 - accuracy: 0.0000e+00\n",
            "4/4 [==============================] - 0s 24ms/step\n"
          ]
        }
      ],
      "source": [
        "rootdir_RP = '/content/CNN_DOA/DATASETS/RECEIVER_POS'\n",
        "\n",
        "_, _, accRes10_RP, custAccRes10_RP = accuracyGenerator(rootdir_RP, None, model_CNN_residual, sr, duration)"
      ]
    },
    {
      "cell_type": "code",
      "execution_count": 35,
      "metadata": {
        "id": "9Js33d0J6_Sb",
        "colab": {
          "base_uri": "https://localhost:8080/",
          "height": 502
        },
        "outputId": "2ea53906-4902-41d6-cbbd-f802e3fc8ad7"
      },
      "outputs": [
        {
          "output_type": "execute_result",
          "data": {
            "text/plain": [
              "<matplotlib.legend.Legend at 0x7eb9366828c0>"
            ]
          },
          "metadata": {},
          "execution_count": 35
        },
        {
          "output_type": "display_data",
          "data": {
            "text/plain": [
              "<Figure size 1600x500 with 1 Axes>"
            ],
            "image/png": "[encoded data removed]"
          },
          "metadata": {}
        }
      ],
      "source": [
        "# Plotting results\n",
        "plt.figure(figsize=(16,5))\n",
        "\n",
        "# Model res 10\n",
        "plt.subplot(1,2,1)\n",
        "plt.plot(distances, accRes10_RP)\n",
        "plt.plot(distances, custAccRes10_RP)\n",
        "plt.title('Model CNN Residual accuracy: receiver position')\n",
        "plt.ylabel('accuracy')\n",
        "plt.xlabel('Distance from first position [m]')\n",
        "plt.ylim([0,100])\n",
        "plt.legend(['Accuracy', 'Custom Accuracy'], loc='upper left')\n",
        "\n",
        "# # Model res 30\n",
        "# plt.subplot(1,2,2)\n",
        "# plt.plot(distances, accRes30_RP)\n",
        "# plt.plot(distances, custAccRes30_RP)\n",
        "# plt.title('Model CNN dense accuracy: receiver position')\n",
        "# plt.ylabel('accuracy')\n",
        "# plt.xlabel('Distance from first position [m]')\n",
        "# plt.ylim([0,100])\n",
        "# plt.legend(['Accuracy', 'Custom Accuracy'], loc='upper left')"
      ]
    },
    {
      "cell_type": "code",
      "execution_count": 36,
      "metadata": {
        "id": "06R80zVm7VEX",
        "colab": {
          "base_uri": "https://localhost:8080/"
        },
        "outputId": "b773afc9-59af-4d03-f102-36f3ecedbed9"
      },
      "outputs": [
        {
          "output_type": "stream",
          "name": "stderr",
          "text": [
            "100%|██████████| 100/100 [00:00<00:00, 465.96it/s]\n"
          ]
        },
        {
          "output_type": "stream",
          "name": "stdout",
          "text": [
            "4/4 [==============================] - 0s 15ms/step - loss: 11.0291 - accuracy: 0.1200\n",
            "4/4 [==============================] - 0s 13ms/step\n"
          ]
        },
        {
          "output_type": "stream",
          "name": "stderr",
          "text": [
            "100%|██████████| 100/100 [00:00<00:00, 720.69it/s]\n"
          ]
        },
        {
          "output_type": "stream",
          "name": "stdout",
          "text": [
            "4/4 [==============================] - 0s 14ms/step - loss: 6.1348 - accuracy: 0.1100\n",
            "4/4 [==============================] - 0s 12ms/step\n"
          ]
        },
        {
          "output_type": "stream",
          "name": "stderr",
          "text": [
            "100%|██████████| 100/100 [00:00<00:00, 756.25it/s]\n"
          ]
        },
        {
          "output_type": "stream",
          "name": "stdout",
          "text": [
            "4/4 [==============================] - 0s 15ms/step - loss: 6.2961 - accuracy: 0.2000\n",
            "4/4 [==============================] - 0s 12ms/step\n"
          ]
        },
        {
          "output_type": "stream",
          "name": "stderr",
          "text": [
            "100%|██████████| 100/100 [00:00<00:00, 738.70it/s]\n"
          ]
        },
        {
          "output_type": "stream",
          "name": "stdout",
          "text": [
            "4/4 [==============================] - 0s 15ms/step - loss: 4.5414 - accuracy: 0.1600\n",
            "4/4 [==============================] - 0s 12ms/step\n"
          ]
        },
        {
          "output_type": "stream",
          "name": "stderr",
          "text": [
            "100%|██████████| 100/100 [00:00<00:00, 756.93it/s]\n"
          ]
        },
        {
          "output_type": "stream",
          "name": "stdout",
          "text": [
            "4/4 [==============================] - 0s 14ms/step - loss: 5.2872 - accuracy: 0.1300\n",
            "4/4 [==============================] - 0s 13ms/step\n"
          ]
        },
        {
          "output_type": "stream",
          "name": "stderr",
          "text": [
            "100%|██████████| 100/100 [00:00<00:00, 732.55it/s]\n"
          ]
        },
        {
          "output_type": "stream",
          "name": "stdout",
          "text": [
            "4/4 [==============================] - 0s 15ms/step - loss: 4.9859 - accuracy: 0.1700\n",
            "4/4 [==============================] - 0s 12ms/step\n"
          ]
        },
        {
          "output_type": "stream",
          "name": "stderr",
          "text": [
            "100%|██████████| 100/100 [00:00<00:00, 792.34it/s]\n"
          ]
        },
        {
          "output_type": "stream",
          "name": "stdout",
          "text": [
            "4/4 [==============================] - 0s 14ms/step - loss: 5.2951 - accuracy: 0.1800\n",
            "4/4 [==============================] - 0s 12ms/step\n"
          ]
        },
        {
          "output_type": "stream",
          "name": "stderr",
          "text": [
            "100%|██████████| 100/100 [00:00<00:00, 726.24it/s]\n"
          ]
        },
        {
          "output_type": "stream",
          "name": "stdout",
          "text": [
            "4/4 [==============================] - 0s 14ms/step - loss: 5.6172 - accuracy: 0.1000\n",
            "4/4 [==============================] - 0s 13ms/step\n"
          ]
        },
        {
          "output_type": "stream",
          "name": "stderr",
          "text": [
            "100%|██████████| 100/100 [00:00<00:00, 191.20it/s]\n"
          ]
        },
        {
          "output_type": "stream",
          "name": "stdout",
          "text": [
            "4/4 [==============================] - 0s 28ms/step - loss: 4.6599 - accuracy: 0.1500\n",
            "4/4 [==============================] - 0s 14ms/step\n"
          ]
        },
        {
          "output_type": "stream",
          "name": "stderr",
          "text": [
            "100%|██████████| 100/100 [00:00<00:00, 438.46it/s]\n"
          ]
        },
        {
          "output_type": "stream",
          "name": "stdout",
          "text": [
            "4/4 [==============================] - 0s 14ms/step - loss: 5.1673 - accuracy: 0.0800\n",
            "4/4 [==============================] - 0s 13ms/step\n"
          ]
        },
        {
          "output_type": "stream",
          "name": "stderr",
          "text": [
            "100%|██████████| 100/100 [00:00<00:00, 749.89it/s]\n"
          ]
        },
        {
          "output_type": "stream",
          "name": "stdout",
          "text": [
            "4/4 [==============================] - 0s 15ms/step - loss: 5.0320 - accuracy: 0.1200\n",
            "4/4 [==============================] - 0s 12ms/step\n"
          ]
        },
        {
          "output_type": "stream",
          "name": "stderr",
          "text": [
            "100%|██████████| 100/100 [00:00<00:00, 746.84it/s]\n"
          ]
        },
        {
          "output_type": "stream",
          "name": "stdout",
          "text": [
            "4/4 [==============================] - 0s 14ms/step - loss: 5.1272 - accuracy: 0.0700\n",
            "4/4 [==============================] - 0s 12ms/step\n"
          ]
        },
        {
          "output_type": "stream",
          "name": "stderr",
          "text": [
            "100%|██████████| 100/100 [00:00<00:00, 797.92it/s]\n"
          ]
        },
        {
          "output_type": "stream",
          "name": "stdout",
          "text": [
            "4/4 [==============================] - 0s 15ms/step - loss: 5.1821 - accuracy: 0.1500\n",
            "4/4 [==============================] - 0s 12ms/step\n"
          ]
        },
        {
          "output_type": "stream",
          "name": "stderr",
          "text": [
            "100%|██████████| 100/100 [00:00<00:00, 729.91it/s]\n"
          ]
        },
        {
          "output_type": "stream",
          "name": "stdout",
          "text": [
            "4/4 [==============================] - 0s 14ms/step - loss: 5.5163 - accuracy: 0.1100\n",
            "4/4 [==============================] - 0s 12ms/step\n"
          ]
        },
        {
          "output_type": "stream",
          "name": "stderr",
          "text": [
            "100%|██████████| 100/100 [00:00<00:00, 792.84it/s]\n"
          ]
        },
        {
          "output_type": "stream",
          "name": "stdout",
          "text": [
            "4/4 [==============================] - 0s 14ms/step - loss: 5.1531 - accuracy: 0.1300\n",
            "4/4 [==============================] - 0s 12ms/step\n"
          ]
        },
        {
          "output_type": "stream",
          "name": "stderr",
          "text": [
            "100%|██████████| 100/100 [00:00<00:00, 749.17it/s]\n"
          ]
        },
        {
          "output_type": "stream",
          "name": "stdout",
          "text": [
            "4/4 [==============================] - 0s 14ms/step - loss: 5.6151 - accuracy: 0.1500\n",
            "4/4 [==============================] - 0s 13ms/step\n"
          ]
        },
        {
          "output_type": "stream",
          "name": "stderr",
          "text": [
            "100%|██████████| 100/100 [00:00<00:00, 765.86it/s]\n"
          ]
        },
        {
          "output_type": "stream",
          "name": "stdout",
          "text": [
            "4/4 [==============================] - 0s 17ms/step - loss: 5.4913 - accuracy: 0.1200\n",
            "4/4 [==============================] - 0s 13ms/step\n"
          ]
        },
        {
          "output_type": "stream",
          "name": "stderr",
          "text": [
            "100%|██████████| 100/100 [00:00<00:00, 555.64it/s]\n"
          ]
        },
        {
          "output_type": "stream",
          "name": "stdout",
          "text": [
            "4/4 [==============================] - 0s 16ms/step - loss: 5.3586 - accuracy: 0.1200\n",
            "4/4 [==============================] - 0s 14ms/step\n"
          ]
        },
        {
          "output_type": "stream",
          "name": "stderr",
          "text": [
            "100%|██████████| 100/100 [00:00<00:00, 548.97it/s]\n"
          ]
        },
        {
          "output_type": "stream",
          "name": "stdout",
          "text": [
            "4/4 [==============================] - 0s 17ms/step - loss: 5.7291 - accuracy: 0.1100\n",
            "4/4 [==============================] - 0s 13ms/step\n"
          ]
        },
        {
          "output_type": "stream",
          "name": "stderr",
          "text": [
            "100%|██████████| 100/100 [00:00<00:00, 565.01it/s]\n"
          ]
        },
        {
          "output_type": "stream",
          "name": "stdout",
          "text": [
            "4/4 [==============================] - 0s 14ms/step - loss: 5.8774 - accuracy: 0.1300\n",
            "4/4 [==============================] - 0s 12ms/step\n"
          ]
        }
      ],
      "source": [
        "rootdir_RV = '/content/CNN_DOA/DATASETS/ROOM_VOLUME'\n",
        "\n",
        "# Compute accuracies\n",
        "_, _, accRes10_RV, custAccRes10_RV = accuracyGenerator(rootdir_RV,None,model_CNN_dense,sr,duration)"
      ]
    },
    {
      "cell_type": "code",
      "source": [
        "# Plotting the results\n",
        "plt.figure(figsize=(16,5))\n",
        "\n",
        "# Model CNN residual\n",
        "plt.subplot(1,2,1)\n",
        "plt.plot(y_steps, accRes10_RV)\n",
        "plt.plot(y_steps, custAccRes10_RV)\n",
        "plt.title('Model CNN Dense accuracy: room volume')\n",
        "plt.ylabel('accuracy')\n",
        "plt.xlabel('y length [m]')\n",
        "plt.ylim([0,100])\n",
        "plt.legend(['Accuracy', 'Custom Accuracy'], loc='upper left')"
      ],
      "metadata": {
        "colab": {
          "base_uri": "https://localhost:8080/",
          "height": 502
        },
        "id": "m3blY6SIerOt",
        "outputId": "9e4b72d9-00e0-476d-bb71-7d7bf8d7cd01"
      },
      "execution_count": 37,
      "outputs": [
        {
          "output_type": "execute_result",
          "data": {
            "text/plain": [
              "<matplotlib.legend.Legend at 0x7eb798b1c6d0>"
            ]
          },
          "metadata": {},
          "execution_count": 37
        },
        {
          "output_type": "display_data",
          "data": {
            "text/plain": [
              "<Figure size 1600x500 with 1 Axes>"
            ],
            "image/png": "[encoded data removed]"
          },
          "metadata": {}
        }
      ]
    },
    {
      "cell_type": "code",
      "source": [
        "rootdir_SD = '/content/CNN_DOA/DATASETS/SOURCE_DISTANCE'\n",
        "\n",
        "# Compute accuracies\n",
        "_, _, accRes10_SD, custAccRes10_SD = accuracyGenerator(rootdir_SD, None, model_CNN_dense, sr, duration)"
      ],
      "metadata": {
        "colab": {
          "base_uri": "https://localhost:8080/"
        },
        "id": "66RrtIgfe0SE",
        "outputId": "a0953bf4-6513-46ff-fb94-d40bbccbcf99"
      },
      "execution_count": 38,
      "outputs": [
        {
          "output_type": "stream",
          "name": "stderr",
          "text": [
            "100%|██████████| 100/100 [00:00<00:00, 378.59it/s]\n"
          ]
        },
        {
          "output_type": "stream",
          "name": "stdout",
          "text": [
            "4/4 [==============================] - 0s 14ms/step - loss: 6.8488 - accuracy: 0.0200\n",
            "4/4 [==============================] - 0s 12ms/step\n"
          ]
        },
        {
          "output_type": "stream",
          "name": "stderr",
          "text": [
            "100%|██████████| 100/100 [00:00<00:00, 792.14it/s]\n"
          ]
        },
        {
          "output_type": "stream",
          "name": "stdout",
          "text": [
            "4/4 [==============================] - 0s 14ms/step - loss: 6.2566 - accuracy: 0.0100\n",
            "4/4 [==============================] - 0s 12ms/step\n"
          ]
        },
        {
          "output_type": "stream",
          "name": "stderr",
          "text": [
            "100%|██████████| 100/100 [00:00<00:00, 745.45it/s]\n"
          ]
        },
        {
          "output_type": "stream",
          "name": "stdout",
          "text": [
            "4/4 [==============================] - 0s 14ms/step - loss: 6.5240 - accuracy: 0.0000e+00\n",
            "4/4 [==============================] - 0s 14ms/step\n"
          ]
        },
        {
          "output_type": "stream",
          "name": "stderr",
          "text": [
            "100%|██████████| 100/100 [00:00<00:00, 548.63it/s]\n"
          ]
        },
        {
          "output_type": "stream",
          "name": "stdout",
          "text": [
            "4/4 [==============================] - 0s 16ms/step - loss: 6.8581 - accuracy: 0.0400\n",
            "4/4 [==============================] - 0s 13ms/step\n"
          ]
        },
        {
          "output_type": "stream",
          "name": "stderr",
          "text": [
            "100%|██████████| 100/100 [00:00<00:00, 555.39it/s]\n"
          ]
        },
        {
          "output_type": "stream",
          "name": "stdout",
          "text": [
            "4/4 [==============================] - 0s 16ms/step - loss: 6.1247 - accuracy: 0.0200\n",
            "4/4 [==============================] - 0s 14ms/step\n"
          ]
        },
        {
          "output_type": "stream",
          "name": "stderr",
          "text": [
            "100%|██████████| 100/100 [00:00<00:00, 507.39it/s]\n"
          ]
        },
        {
          "output_type": "stream",
          "name": "stdout",
          "text": [
            "4/4 [==============================] - 0s 14ms/step - loss: 6.8188 - accuracy: 0.0400\n",
            "4/4 [==============================] - 0s 13ms/step\n"
          ]
        },
        {
          "output_type": "stream",
          "name": "stderr",
          "text": [
            "100%|██████████| 100/100 [00:00<00:00, 823.18it/s]\n"
          ]
        },
        {
          "output_type": "stream",
          "name": "stdout",
          "text": [
            "4/4 [==============================] - 0s 15ms/step - loss: 6.6215 - accuracy: 0.0500\n",
            "4/4 [==============================] - 0s 13ms/step\n"
          ]
        },
        {
          "output_type": "stream",
          "name": "stderr",
          "text": [
            "100%|██████████| 100/100 [00:00<00:00, 587.20it/s]\n"
          ]
        },
        {
          "output_type": "stream",
          "name": "stdout",
          "text": [
            "4/4 [==============================] - 0s 14ms/step - loss: 6.6789 - accuracy: 0.0300\n",
            "4/4 [==============================] - 0s 12ms/step\n"
          ]
        },
        {
          "output_type": "stream",
          "name": "stderr",
          "text": [
            "100%|██████████| 100/100 [00:00<00:00, 822.80it/s]\n"
          ]
        },
        {
          "output_type": "stream",
          "name": "stdout",
          "text": [
            "4/4 [==============================] - 0s 17ms/step - loss: 5.9443 - accuracy: 0.0500\n",
            "4/4 [==============================] - 0s 13ms/step\n"
          ]
        },
        {
          "output_type": "stream",
          "name": "stderr",
          "text": [
            "100%|██████████| 100/100 [00:00<00:00, 379.89it/s]\n"
          ]
        },
        {
          "output_type": "stream",
          "name": "stdout",
          "text": [
            "4/4 [==============================] - 0s 14ms/step - loss: 6.2064 - accuracy: 0.0800\n",
            "4/4 [==============================] - 0s 14ms/step\n"
          ]
        },
        {
          "output_type": "stream",
          "name": "stderr",
          "text": [
            "100%|██████████| 100/100 [00:00<00:00, 784.33it/s]\n"
          ]
        },
        {
          "output_type": "stream",
          "name": "stdout",
          "text": [
            "4/4 [==============================] - 0s 14ms/step - loss: 6.0103 - accuracy: 0.0900\n",
            "4/4 [==============================] - 0s 12ms/step\n"
          ]
        },
        {
          "output_type": "stream",
          "name": "stderr",
          "text": [
            "100%|██████████| 100/100 [00:00<00:00, 758.53it/s]\n"
          ]
        },
        {
          "output_type": "stream",
          "name": "stdout",
          "text": [
            "4/4 [==============================] - 0s 14ms/step - loss: 5.8753 - accuracy: 0.0600\n",
            "4/4 [==============================] - 0s 12ms/step\n"
          ]
        },
        {
          "output_type": "stream",
          "name": "stderr",
          "text": [
            "100%|██████████| 100/100 [00:00<00:00, 782.69it/s]\n"
          ]
        },
        {
          "output_type": "stream",
          "name": "stdout",
          "text": [
            "4/4 [==============================] - 0s 16ms/step - loss: 6.0669 - accuracy: 0.0600\n",
            "4/4 [==============================] - 0s 12ms/step\n"
          ]
        },
        {
          "output_type": "stream",
          "name": "stderr",
          "text": [
            "100%|██████████| 100/100 [00:00<00:00, 714.85it/s]\n"
          ]
        },
        {
          "output_type": "stream",
          "name": "stdout",
          "text": [
            "4/4 [==============================] - 0s 14ms/step - loss: 5.8881 - accuracy: 0.0400\n",
            "4/4 [==============================] - 0s 13ms/step\n"
          ]
        },
        {
          "output_type": "stream",
          "name": "stderr",
          "text": [
            "100%|██████████| 100/100 [00:00<00:00, 573.60it/s]\n"
          ]
        },
        {
          "output_type": "stream",
          "name": "stdout",
          "text": [
            "4/4 [==============================] - 0s 17ms/step - loss: 5.7646 - accuracy: 0.0700\n",
            "4/4 [==============================] - 0s 13ms/step\n"
          ]
        },
        {
          "output_type": "stream",
          "name": "stderr",
          "text": [
            "100%|██████████| 100/100 [00:00<00:00, 545.69it/s]\n"
          ]
        },
        {
          "output_type": "stream",
          "name": "stdout",
          "text": [
            "4/4 [==============================] - 0s 16ms/step - loss: 5.8121 - accuracy: 0.0500\n",
            "4/4 [==============================] - 0s 14ms/step\n"
          ]
        },
        {
          "output_type": "stream",
          "name": "stderr",
          "text": [
            "100%|██████████| 100/100 [00:00<00:00, 432.77it/s]\n"
          ]
        },
        {
          "output_type": "stream",
          "name": "stdout",
          "text": [
            "4/4 [==============================] - 0s 16ms/step - loss: 6.6709 - accuracy: 0.0300\n",
            "4/4 [==============================] - 0s 24ms/step\n"
          ]
        },
        {
          "output_type": "stream",
          "name": "stderr",
          "text": [
            "100%|██████████| 100/100 [00:00<00:00, 146.54it/s]\n"
          ]
        },
        {
          "output_type": "stream",
          "name": "stdout",
          "text": [
            "4/4 [==============================] - 0s 17ms/step - loss: 5.7752 - accuracy: 0.0600\n",
            "4/4 [==============================] - 0s 14ms/step\n"
          ]
        },
        {
          "output_type": "stream",
          "name": "stderr",
          "text": [
            "100%|██████████| 100/100 [00:00<00:00, 464.56it/s]\n"
          ]
        },
        {
          "output_type": "stream",
          "name": "stdout",
          "text": [
            "4/4 [==============================] - 0s 16ms/step - loss: 6.3384 - accuracy: 0.0500\n",
            "4/4 [==============================] - 0s 13ms/step\n"
          ]
        },
        {
          "output_type": "stream",
          "name": "stderr",
          "text": [
            "100%|██████████| 100/100 [00:00<00:00, 764.58it/s]\n"
          ]
        },
        {
          "output_type": "stream",
          "name": "stdout",
          "text": [
            "4/4 [==============================] - 0s 16ms/step - loss: 6.1575 - accuracy: 0.0500\n",
            "4/4 [==============================] - 0s 13ms/step\n"
          ]
        }
      ]
    },
    {
      "cell_type": "code",
      "source": [
        "plt.figure(figsize=(16,5))\n",
        "\n",
        "# Model res 10\n",
        "plt.subplot(1,2,1)\n",
        "plt.plot(source_distances, accRes10_SD)\n",
        "plt.plot(source_distances, custAccRes10_SD)\n",
        "plt.title('Model CNN dense° accuracy: source distance')\n",
        "plt.ylabel('accuracy')\n",
        "plt.xlabel('distance from center [m]')\n",
        "plt.ylim([0,100])\n",
        "plt.legend(['Accuracy', 'Custom Accuracy'], loc='upper left')"
      ],
      "metadata": {
        "colab": {
          "base_uri": "https://localhost:8080/",
          "height": 502
        },
        "id": "odKxSgg_e_NK",
        "outputId": "677d7cb5-bad9-4b60-e8a2-11a263811a91"
      },
      "execution_count": 39,
      "outputs": [
        {
          "output_type": "execute_result",
          "data": {
            "text/plain": [
              "<matplotlib.legend.Legend at 0x7eb798565420>"
            ]
          },
          "metadata": {},
          "execution_count": 39
        },
        {
          "output_type": "display_data",
          "data": {
            "text/plain": [
              "<Figure size 1600x500 with 1 Axes>"
            ],
            "image/png": "[encoded data removed]"
          },
          "metadata": {}
        }
      ]
    },
    {
      "cell_type": "code",
      "source": [
        "rootdir_RP = '/content/CNN_DOA/DATASETS/RECEIVER_POS'\n",
        "\n",
        "_, _, accRes10_RP, custAccRes10_RP = accuracyGenerator(rootdir_RP, None, model_CNN_dense, sr, duration)"
      ],
      "metadata": {
        "colab": {
          "base_uri": "https://localhost:8080/"
        },
        "id": "9awdW7rCfHHa",
        "outputId": "9b53c1da-2661-4882-c98d-cbb213635e4a"
      },
      "execution_count": 40,
      "outputs": [
        {
          "output_type": "stream",
          "name": "stderr",
          "text": [
            "100%|██████████| 100/100 [00:00<00:00, 382.97it/s]\n"
          ]
        },
        {
          "output_type": "stream",
          "name": "stdout",
          "text": [
            "4/4 [==============================] - 0s 22ms/step - loss: 3.8427 - accuracy: 0.2100\n",
            "4/4 [==============================] - 0s 15ms/step\n"
          ]
        },
        {
          "output_type": "stream",
          "name": "stderr",
          "text": [
            "100%|██████████| 100/100 [00:00<00:00, 485.74it/s]\n"
          ]
        },
        {
          "output_type": "stream",
          "name": "stdout",
          "text": [
            "4/4 [==============================] - 0s 17ms/step - loss: 5.4275 - accuracy: 0.1200\n",
            "4/4 [==============================] - 0s 13ms/step\n"
          ]
        },
        {
          "output_type": "stream",
          "name": "stderr",
          "text": [
            "100%|██████████| 100/100 [00:00<00:00, 557.25it/s]\n"
          ]
        },
        {
          "output_type": "stream",
          "name": "stdout",
          "text": [
            "4/4 [==============================] - 0s 17ms/step - loss: 5.0752 - accuracy: 0.1100\n",
            "4/4 [==============================] - 0s 14ms/step\n"
          ]
        },
        {
          "output_type": "stream",
          "name": "stderr",
          "text": [
            "100%|██████████| 100/100 [00:00<00:00, 505.61it/s]\n"
          ]
        },
        {
          "output_type": "stream",
          "name": "stdout",
          "text": [
            "4/4 [==============================] - 0s 15ms/step - loss: 5.0539 - accuracy: 0.0900\n",
            "4/4 [==============================] - 0s 13ms/step\n"
          ]
        },
        {
          "output_type": "stream",
          "name": "stderr",
          "text": [
            "100%|██████████| 100/100 [00:00<00:00, 711.43it/s]\n"
          ]
        },
        {
          "output_type": "stream",
          "name": "stdout",
          "text": [
            "4/4 [==============================] - 0s 14ms/step - loss: 5.0382 - accuracy: 0.1300\n",
            "4/4 [==============================] - 0s 13ms/step\n"
          ]
        },
        {
          "output_type": "stream",
          "name": "stderr",
          "text": [
            "100%|██████████| 100/100 [00:00<00:00, 819.80it/s]\n"
          ]
        },
        {
          "output_type": "stream",
          "name": "stdout",
          "text": [
            "4/4 [==============================] - 0s 14ms/step - loss: 5.8368 - accuracy: 0.1100\n",
            "4/4 [==============================] - 0s 12ms/step\n"
          ]
        },
        {
          "output_type": "stream",
          "name": "stderr",
          "text": [
            "100%|██████████| 100/100 [00:00<00:00, 698.80it/s]\n"
          ]
        },
        {
          "output_type": "stream",
          "name": "stdout",
          "text": [
            "4/4 [==============================] - 0s 14ms/step - loss: 5.2561 - accuracy: 0.1300\n",
            "4/4 [==============================] - 0s 12ms/step\n"
          ]
        },
        {
          "output_type": "stream",
          "name": "stderr",
          "text": [
            "100%|██████████| 100/100 [00:00<00:00, 780.57it/s]\n"
          ]
        },
        {
          "output_type": "stream",
          "name": "stdout",
          "text": [
            "4/4 [==============================] - 0s 14ms/step - loss: 5.5119 - accuracy: 0.0500\n",
            "4/4 [==============================] - 0s 12ms/step\n"
          ]
        },
        {
          "output_type": "stream",
          "name": "stderr",
          "text": [
            "100%|██████████| 100/100 [00:00<00:00, 722.99it/s]\n"
          ]
        },
        {
          "output_type": "stream",
          "name": "stdout",
          "text": [
            "4/4 [==============================] - 0s 14ms/step - loss: 5.2176 - accuracy: 0.1300\n",
            "4/4 [==============================] - 0s 13ms/step\n"
          ]
        },
        {
          "output_type": "stream",
          "name": "stderr",
          "text": [
            "100%|██████████| 100/100 [00:00<00:00, 405.64it/s]\n"
          ]
        },
        {
          "output_type": "stream",
          "name": "stdout",
          "text": [
            "4/4 [==============================] - 0s 15ms/step - loss: 5.2510 - accuracy: 0.1600\n",
            "4/4 [==============================] - 0s 12ms/step\n"
          ]
        },
        {
          "output_type": "stream",
          "name": "stderr",
          "text": [
            "100%|██████████| 100/100 [00:00<00:00, 799.92it/s]\n"
          ]
        },
        {
          "output_type": "stream",
          "name": "stdout",
          "text": [
            "4/4 [==============================] - 0s 14ms/step - loss: 5.6781 - accuracy: 0.0800\n",
            "4/4 [==============================] - 0s 12ms/step\n"
          ]
        },
        {
          "output_type": "stream",
          "name": "stderr",
          "text": [
            "100%|██████████| 100/100 [00:00<00:00, 740.72it/s]\n"
          ]
        },
        {
          "output_type": "stream",
          "name": "stdout",
          "text": [
            "4/4 [==============================] - 0s 14ms/step - loss: 6.0298 - accuracy: 0.1000\n",
            "4/4 [==============================] - 0s 12ms/step\n"
          ]
        },
        {
          "output_type": "stream",
          "name": "stderr",
          "text": [
            "100%|██████████| 100/100 [00:00<00:00, 809.63it/s]\n"
          ]
        },
        {
          "output_type": "stream",
          "name": "stdout",
          "text": [
            "4/4 [==============================] - 0s 16ms/step - loss: 5.4765 - accuracy: 0.0500\n",
            "4/4 [==============================] - 0s 19ms/step\n"
          ]
        },
        {
          "output_type": "stream",
          "name": "stderr",
          "text": [
            "100%|██████████| 100/100 [00:00<00:00, 240.47it/s]\n"
          ]
        },
        {
          "output_type": "stream",
          "name": "stdout",
          "text": [
            "4/4 [==============================] - 0s 16ms/step - loss: 5.4634 - accuracy: 0.1000\n",
            "4/4 [==============================] - 0s 13ms/step\n"
          ]
        },
        {
          "output_type": "stream",
          "name": "stderr",
          "text": [
            "100%|██████████| 100/100 [00:00<00:00, 506.37it/s]\n"
          ]
        },
        {
          "output_type": "stream",
          "name": "stdout",
          "text": [
            "4/4 [==============================] - 0s 15ms/step - loss: 4.8470 - accuracy: 0.1200\n",
            "4/4 [==============================] - 0s 13ms/step\n"
          ]
        },
        {
          "output_type": "stream",
          "name": "stderr",
          "text": [
            "100%|██████████| 100/100 [00:00<00:00, 430.19it/s]\n"
          ]
        },
        {
          "output_type": "stream",
          "name": "stdout",
          "text": [
            "4/4 [==============================] - 0s 14ms/step - loss: 5.8394 - accuracy: 0.1200\n",
            "4/4 [==============================] - 0s 12ms/step\n"
          ]
        },
        {
          "output_type": "stream",
          "name": "stderr",
          "text": [
            "100%|██████████| 100/100 [00:00<00:00, 730.85it/s]\n"
          ]
        },
        {
          "output_type": "stream",
          "name": "stdout",
          "text": [
            "4/4 [==============================] - 0s 14ms/step - loss: 5.3075 - accuracy: 0.0900\n",
            "4/4 [==============================] - 0s 13ms/step\n"
          ]
        },
        {
          "output_type": "stream",
          "name": "stderr",
          "text": [
            "100%|██████████| 100/100 [00:00<00:00, 687.07it/s]\n"
          ]
        },
        {
          "output_type": "stream",
          "name": "stdout",
          "text": [
            "4/4 [==============================] - 0s 20ms/step - loss: 5.8461 - accuracy: 0.0700\n",
            "4/4 [==============================] - 0s 13ms/step\n"
          ]
        },
        {
          "output_type": "stream",
          "name": "stderr",
          "text": [
            "100%|██████████| 100/100 [00:00<00:00, 470.54it/s]\n"
          ]
        },
        {
          "output_type": "stream",
          "name": "stdout",
          "text": [
            "4/4 [==============================] - 0s 17ms/step - loss: 5.2055 - accuracy: 0.1700\n",
            "4/4 [==============================] - 0s 12ms/step\n"
          ]
        },
        {
          "output_type": "stream",
          "name": "stderr",
          "text": [
            "100%|██████████| 100/100 [00:00<00:00, 738.48it/s]\n"
          ]
        },
        {
          "output_type": "stream",
          "name": "stdout",
          "text": [
            "4/4 [==============================] - 0s 21ms/step - loss: 5.7076 - accuracy: 0.0600\n",
            "4/4 [==============================] - 0s 13ms/step\n"
          ]
        }
      ]
    },
    {
      "cell_type": "code",
      "source": [
        "# Plotting results\n",
        "plt.figure(figsize=(16,5))\n",
        "\n",
        "# Model res 10\n",
        "plt.subplot(1,2,1)\n",
        "plt.plot(distances, accRes10_RP)\n",
        "plt.plot(distances, custAccRes10_RP)\n",
        "plt.title('Model CNN dense accuracy: receiver position')\n",
        "plt.ylabel('accuracy')\n",
        "plt.xlabel('Distance from first position [m]')\n",
        "plt.ylim([0,100])\n",
        "plt.legend(['Accuracy', 'Custom Accuracy'], loc='upper left')"
      ],
      "metadata": {
        "colab": {
          "base_uri": "https://localhost:8080/",
          "height": 502
        },
        "id": "od9bhRkUfPm_",
        "outputId": "da031311-883e-451b-ac39-bc4d9a87a351"
      },
      "execution_count": 41,
      "outputs": [
        {
          "output_type": "execute_result",
          "data": {
            "text/plain": [
              "<matplotlib.legend.Legend at 0x7eb7985798a0>"
            ]
          },
          "metadata": {},
          "execution_count": 41
        },
        {
          "output_type": "display_data",
          "data": {
            "text/plain": [
              "<Figure size 1600x500 with 1 Axes>"
            ],
            "image/png": "[encoded data removed]"
          },
          "metadata": {}
        }
      ]
    },
    {
      "cell_type": "code",
      "source": [],
      "metadata": {
        "id": "cPPQO3lkfXok"
      },
      "execution_count": null,
      "outputs": []
    }
  ],
  "metadata": {
    "colab": {
      "provenance": [],
      "gpuType": "T4"
    },
    "kernelspec": {
      "display_name": "Python 3",
      "name": "python3"
    },
    "language_info": {
      "name": "python"
    },
    "accelerator": "GPU"
  },
  "nbformat": 4,
  "nbformat_minor": 0
}